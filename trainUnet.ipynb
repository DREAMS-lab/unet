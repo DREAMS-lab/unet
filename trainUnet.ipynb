{
 "cells": [
  {
   "cell_type": "code",
   "execution_count": 1,
   "metadata": {},
   "outputs": [
    {
     "name": "stderr",
     "output_type": "stream",
     "text": [
      "Using TensorFlow backend.\n"
     ]
    }
   ],
   "source": [
    "from model import *\n",
    "from data import *"
   ]
  },
  {
   "cell_type": "markdown",
   "metadata": {},
   "source": [
    "## Train your Unet with membrane data\n",
    "membrane data is in folder membrane/, it is a binary classification task.\n",
    "\n",
    "The input shape of image and mask are the same :(batch_size,rows,cols,channel = 1)"
   ]
  },
  {
   "cell_type": "markdown",
   "metadata": {},
   "source": [
    "### Train with data generator"
   ]
  },
  {
   "cell_type": "code",
   "execution_count": 10,
   "metadata": {},
   "outputs": [
    {
     "name": "stdout",
     "output_type": "stream",
     "text": [
      "Epoch 1/2\n",
      "Found 66 images belonging to 1 classes.\n",
      "Found 66 images belonging to 1 classes.\n",
      "20/20 [==============================] - 16s 791ms/step - loss: 0.7323 - acc: 0.7886\n",
      "\n",
      "Epoch 00001: loss improved from inf to 0.73507, saving model to unet_rocks0.hdf5\n",
      "Epoch 2/2\n",
      "20/20 [==============================] - 13s 651ms/step - loss: 0.4576 - acc: 0.8197\n",
      "\n",
      "Epoch 00002: loss improved from 0.73507 to 0.47205, saving model to unet_rocks0.hdf5\n"
     ]
    },
    {
     "data": {
      "text/plain": [
       "<keras.callbacks.History at 0x7f8f2a47e5d0>"
      ]
     },
     "execution_count": 10,
     "metadata": {},
     "output_type": "execute_result"
    }
   ],
   "source": [
    "data_gen_args = dict(rotation_range=0.2,\n",
    "                    width_shift_range=0.05,\n",
    "                    height_shift_range=0.05,\n",
    "                    shear_range=0.05,\n",
    "                    zoom_range=0.05,\n",
    "                    horizontal_flip=True,\n",
    "                    fill_mode='nearest')\n",
    "myGene = trainGenerator(20,'data/rocks_unet2/train','image','label',data_gen_args,save_to_dir = \"data/rocks_unet2/train/aug\",\n",
    "                        image_color_mode='rgb')\n",
    "# the batch size should be large enough, otherwise the network fail to learn. \n",
    "# if the network is not improving, re-initialize the weights (local-minima)\n",
    "model = unet(input_size = (256,256,3))\n",
    "model_checkpoint = ModelCheckpoint('unet_rocks1.hdf5', monitor='loss',verbose=1, save_best_only=True)\n",
    "#model.load_weights(\"unet_rocks1.hdf5\")\n",
    "model.fit_generator(myGene,steps_per_epoch=2000,epochs=3,callbacks=[model_checkpoint])"
   ]
  },
  {
   "cell_type": "markdown",
   "metadata": {},
   "source": [
    "### Test your model and save predicted results"
   ]
  },
  {
   "cell_type": "code",
   "execution_count": 7,
   "metadata": {
    "scrolled": false
   },
   "outputs": [
    {
     "name": "stdout",
     "output_type": "stream",
     "text": [
      "104/104 [==============================] - 73s 703ms/step\n"
     ]
    }
   ],
   "source": [
    "testGene = testGenerator(\"data/rocks_unet2/allrocks\", num_image=104, flag_multi_class = True, as_gray=False)\n",
    "model_p = unet(input_size = (256,256,3))\n",
    "model_p.load_weights(\"unet_rocks1.hdf5\")\n",
    "results = model_p.predict_generator(testGene,104,verbose=1)\n",
    "saveResult(\"data/rocks_unet2/allrocks\",results)"
   ]
  }
 ],
 "metadata": {
  "kernelspec": {
   "display_name": "Python 2",
   "language": "python",
   "name": "python2"
  },
  "language_info": {
   "codemirror_mode": {
    "name": "ipython",
    "version": 2
   },
   "file_extension": ".py",
   "mimetype": "text/x-python",
   "name": "python",
   "nbconvert_exporter": "python",
   "pygments_lexer": "ipython2",
   "version": "2.7.15rc1"
  }
 },
 "nbformat": 4,
 "nbformat_minor": 2
}
